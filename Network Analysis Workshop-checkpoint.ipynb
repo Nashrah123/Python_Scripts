{
 "cells": [
  {
   "cell_type": "code",
   "execution_count": 15,
   "metadata": {},
   "outputs": [
    {
     "name": "stdout",
     "output_type": "stream",
     "text": [
      "[1, 2, 3]\n",
      "[(1, 2), (2, 3)]\n"
     ]
    },
    {
     "data": {
      "image/png": "[encoded data removed]",
      "text/plain": [
       "<matplotlib.figure.Figure at 0x975a898>"
      ]
     },
     "metadata": {},
     "output_type": "display_data"
    }
   ],
   "source": [
    "import networkx as nx\n",
    "\n",
    "cool_graph = nx.Graph()\n",
    "cool_graph.add_node(1)\n",
    "cool_graph.add_node(2)\n",
    "cool_graph.add_node(3)\n",
    "cool_graph.add_edge(1,2)\n",
    "cool_graph.add_edge(2,3)\n",
    "\n",
    "print(cool_graph.nodes())\n",
    "print(cool_graph.edges())\n",
    "\n",
    "import matplotlib.pyplot as plt\n",
    "nx.draw_networkx(cool_graph)\n",
    "plt.axis('off')\n",
    "plt.show()\n",
    "\n",
    "country_graph = nx.Graph()\n",
    "\n",
    "#GDP per capita from CIA World Factbook\n",
    "country_graph.add_node(\"US\", pecd=True, gdp_per_capita=54800)\n",
    "country_graph.add_node(\"Cuba\", pecd=True, gdp_per_capita=10200)\n",
    "\n",
    "#Edge between A and B if A has diplomatic relations with B\n",
    "country_graph.add_edge(\"US\", \"Cuba\", since=2015)\n",
    "country_graph.add_edge(\"US\", \"China\", since=1979)\n",
    "\n",
    "#node with the highest degree (edges) can be thought of the diplicatic connectors vs outlaws\n",
    "\n",
    "print(country_graph...."
   ]
  },
  {
   "cell_type": "code",
   "execution_count": 17,
   "metadata": {},
   "outputs": [],
   "source": [
    "import datetime\n",
    "\n",
    "#create a new (empty) dictionary _ create index\n",
    "\n",
    "ny_num_list = [1,3,5,7]\n",
    "\n",
    "name_dict = {'first name': 'Jeff', 'last year': 'Jacobs', 'birth_year': 1990}\n",
    "\n",
    "car_dict['date'].."
   ]
  },
  {
   "cell_type": "code",
   "execution_count": 19,
   "metadata": {},
   "outputs": [
    {
     "ename": "KeyError",
     "evalue": "'oecd'",
     "output_type": "error",
     "traceback": [
      "\u001b[1;31m---------------------------------------------------------------------------\u001b[0m",
      "\u001b[1;31mKeyError\u001b[0m                                  Traceback (most recent call last)",
      "\u001b[1;32m<ipython-input-19-54d2db8b4410>\u001b[0m in \u001b[0;36m<module>\u001b[1;34m()\u001b[0m\n\u001b[0;32m      1\u001b[0m sub_net = country_graph.subgraph([n for (n,d) in country_graph.nodes(data=True)\n\u001b[1;32m----> 2\u001b[1;33m     if not d['oecd'] and d['gdp_per_capita'] >= 10000 and d['gdp_per_capita'] <= 40000])\n\u001b[0m",
      "\u001b[1;31mKeyError\u001b[0m: 'oecd'"
     ]
    }
   ],
   "source": [
    "sub_net = country_graph.subgraph([n for (n,d) in country_graph.nodes(data=True)\n",
    "    if not d['oecd'] and d['gdp_per_capita'] >= 10000 and d['gdp_per_capita'] <= 40000])\n",
    "\n",
    "print(\"Nodes: \" + str(sub_net.nodes(dates=True)))\n",
    "print(\"Edges: \" + str(sub_net.edges(data=True)))\n",
    "\n",
    "nx.draw_networkx(sub_net)\n",
    "#plt.axis('off') <- show axis\n",
    "plt.show()"
   ]
  },
  {
   "cell_type": "code",
   "execution_count": 22,
   "metadata": {},
   "outputs": [
    {
     "ename": "NameError",
     "evalue": "name 'y' is not defined",
     "output_type": "error",
     "traceback": [
      "\u001b[1;31m---------------------------------------------------------------------------\u001b[0m",
      "\u001b[1;31mNameError\u001b[0m                                 Traceback (most recent call last)",
      "\u001b[1;32m<ipython-input-22-1583fc5bfe79>\u001b[0m in \u001b[0;36m<module>\u001b[1;34m()\u001b[0m\n\u001b[1;32m----> 1\u001b[1;33m \u001b[1;33m[\u001b[0m\u001b[0mf\u001b[0m\u001b[1;33m(\u001b[0m\u001b[0mx\u001b[0m\u001b[1;33m)\u001b[0m \u001b[1;32mfor\u001b[0m \u001b[0mx\u001b[0m \u001b[1;32min\u001b[0m \u001b[0my\u001b[0m \u001b[1;32mif\u001b[0m \u001b[0mg\u001b[0m\u001b[1;33m(\u001b[0m\u001b[0mx\u001b[0m\u001b[1;33m)\u001b[0m\u001b[1;33m]\u001b[0m\u001b[1;33m\u001b[0m\u001b[0m\n\u001b[0m\u001b[0;32m      2\u001b[0m \u001b[1;33m\u001b[0m\u001b[0m\n\u001b[0;32m      3\u001b[0m \u001b[1;31m#where f(x) is an arbitrary fucntion, while g(x) is a function which evaluates to True or False.\u001b[0m\u001b[1;33m\u001b[0m\u001b[1;33m\u001b[0m\u001b[0m\n\u001b[0;32m      4\u001b[0m \u001b[1;33m\u001b[0m\u001b[0m\n\u001b[0;32m      5\u001b[0m \u001b[0my\u001b[0m \u001b[1;33m=\u001b[0m \u001b[1;33m[\u001b[0m\u001b[1;36m1\u001b[0m\u001b[1;33m,\u001b[0m\u001b[1;36m2\u001b[0m\u001b[1;33m,\u001b[0m\u001b[1;36m3\u001b[0m\u001b[1;33m,\u001b[0m\u001b[1;36m4\u001b[0m\u001b[1;33m]\u001b[0m\u001b[1;33m\u001b[0m\u001b[0m\n",
      "\u001b[1;31mNameError\u001b[0m: name 'y' is not defined"
     ]
    }
   ],
   "source": [
    "[f(x) for x in y if g(x)]\n",
    "\n",
    "#where f(x) is an arbitrary fucntion, while g(x) is a function which evaluates to True or False.\n",
    "\n",
    "y = [1,2,3,4]\n",
    "evens = [x for x in y if x % 2 == 0]\n",
    "evens"
   ]
  },
  {
   "cell_type": "code",
   "execution_count": null,
   "metadata": {
    "collapsed": true
   },
   "outputs": [],
   "source": [
    "edges_x = {[n1,n2] for {n1,n2} in country_graph.edges(data=True) if d['since']} <=1975]\n",
    "#for nodes"
   ]
  },
  {
   "cell_type": "code",
   "execution_count": null,
   "metadata": {
    "collapsed": true
   },
   "outputs": [],
   "source": [
    "#netowrk stats\n",
    "\n",
    "deg_cent = nx.degree_centrality(country_graph)\n",
    "print(\"diameter: \" +strg(nx.diameter...)\n",
    "nx.draw_networkx(net_1975, with_labels=False) #with or without labels\n",
    "      \n",
    "      \n",
    "#adjacency list format\n",
    "nx.write_adjlist(country_graph,\"adj.txt\")\n",
    "list(nc.generate_adjlist(country_graph))\n",
    "      \n",
    "      \n",
    "#exporting to Gephi\n",
    "nx.write_gexf('country_graph.gexf')\n",
    "      "
   ]
  }
 ],
 "metadata": {
  "kernelspec": {
   "display_name": "Python 3",
   "language": "python",
   "name": "python3"
  },
  "language_info": {
   "codemirror_mode": {
    "name": "ipython",
    "version": 3
   },
   "file_extension": ".py",
   "mimetype": "text/x-python",
   "name": "python",
   "nbconvert_exporter": "python",
   "pygments_lexer": "ipython3",
   "version": "3.6.4"
  }
 },
 "nbformat": 4,
 "nbformat_minor": 2
}
